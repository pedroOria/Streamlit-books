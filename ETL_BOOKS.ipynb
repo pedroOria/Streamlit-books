{
 "cells": [
  {
   "cell_type": "code",
   "execution_count": 1,
   "metadata": {},
   "outputs": [],
   "source": [
    "import pandas as pd"
   ]
  },
  {
   "cell_type": "code",
   "execution_count": 2,
   "metadata": {},
   "outputs": [],
   "source": [
    "# codigo para saltar las lineas con errores\n",
    "df = pd.read_csv('DATA/books.csv', on_bad_lines='skip', quotechar='\\\"')"
   ]
  },
  {
   "cell_type": "code",
   "execution_count": 4,
   "metadata": {},
   "outputs": [
    {
     "name": "stderr",
     "output_type": "stream",
     "text": [
      "/tmp/ipykernel_252/3400304678.py:2: FutureWarning: The error_bad_lines argument has been deprecated and will be removed in a future version. Use on_bad_lines in the future.\n",
      "\n",
      "\n",
      "  df_errors = pd.read_csv('DATA/books.csv', error_bad_lines=False, quotechar='\"')\n",
      "Skipping line 3350: expected 12 fields, saw 13\n",
      "Skipping line 4704: expected 12 fields, saw 13\n",
      "Skipping line 5879: expected 12 fields, saw 13\n",
      "Skipping line 8981: expected 12 fields, saw 13\n",
      "\n"
     ]
    }
   ],
   "source": [
    "# codigo para saber cuales son las lineas que presentan errores\n",
    "df_errors = pd.read_csv('DATA/books.csv', error_bad_lines=False, quotechar='\"')"
   ]
  },
  {
   "cell_type": "code",
   "execution_count": 91,
   "metadata": {},
   "outputs": [],
   "source": [
    "df_2 = pd.read_csv('DATA/books_2.csv')"
   ]
  },
  {
   "cell_type": "code",
   "execution_count": 92,
   "metadata": {},
   "outputs": [
    {
     "data": {
      "text/html": [
       "<div>\n",
       "<style scoped>\n",
       "    .dataframe tbody tr th:only-of-type {\n",
       "        vertical-align: middle;\n",
       "    }\n",
       "\n",
       "    .dataframe tbody tr th {\n",
       "        vertical-align: top;\n",
       "    }\n",
       "\n",
       "    .dataframe thead th {\n",
       "        text-align: right;\n",
       "    }\n",
       "</style>\n",
       "<table border=\"1\" class=\"dataframe\">\n",
       "  <thead>\n",
       "    <tr style=\"text-align: right;\">\n",
       "      <th></th>\n",
       "      <th>isbn13</th>\n",
       "      <th>isbn10</th>\n",
       "      <th>title</th>\n",
       "      <th>subtitle</th>\n",
       "      <th>authors</th>\n",
       "      <th>categories</th>\n",
       "      <th>thumbnail</th>\n",
       "      <th>description</th>\n",
       "      <th>published_year</th>\n",
       "      <th>average_rating</th>\n",
       "      <th>num_pages</th>\n",
       "      <th>ratings_count</th>\n",
       "    </tr>\n",
       "  </thead>\n",
       "  <tbody>\n",
       "    <tr>\n",
       "      <th>0</th>\n",
       "      <td>9780002005883</td>\n",
       "      <td>0002005883</td>\n",
       "      <td>Gilead</td>\n",
       "      <td>NaN</td>\n",
       "      <td>Marilynne Robinson</td>\n",
       "      <td>Fiction</td>\n",
       "      <td>http://books.google.com/books/content?id=KQZCP...</td>\n",
       "      <td>A NOVEL THAT READERS and critics have been eag...</td>\n",
       "      <td>2004.0</td>\n",
       "      <td>3.85</td>\n",
       "      <td>247.0</td>\n",
       "      <td>361.0</td>\n",
       "    </tr>\n",
       "    <tr>\n",
       "      <th>1</th>\n",
       "      <td>9780002261982</td>\n",
       "      <td>0002261987</td>\n",
       "      <td>Spider's Web</td>\n",
       "      <td>A Novel</td>\n",
       "      <td>Charles Osborne;Agatha Christie</td>\n",
       "      <td>Detective and mystery stories</td>\n",
       "      <td>http://books.google.com/books/content?id=gA5GP...</td>\n",
       "      <td>A new 'Christie for Christmas' -- a full-lengt...</td>\n",
       "      <td>2000.0</td>\n",
       "      <td>3.83</td>\n",
       "      <td>241.0</td>\n",
       "      <td>5164.0</td>\n",
       "    </tr>\n",
       "    <tr>\n",
       "      <th>2</th>\n",
       "      <td>9780006163831</td>\n",
       "      <td>0006163831</td>\n",
       "      <td>The One Tree</td>\n",
       "      <td>NaN</td>\n",
       "      <td>Stephen R. Donaldson</td>\n",
       "      <td>American fiction</td>\n",
       "      <td>http://books.google.com/books/content?id=OmQaw...</td>\n",
       "      <td>Volume Two of Stephen Donaldson's acclaimed se...</td>\n",
       "      <td>1982.0</td>\n",
       "      <td>3.97</td>\n",
       "      <td>479.0</td>\n",
       "      <td>172.0</td>\n",
       "    </tr>\n",
       "    <tr>\n",
       "      <th>3</th>\n",
       "      <td>9780006178736</td>\n",
       "      <td>0006178731</td>\n",
       "      <td>Rage of angels</td>\n",
       "      <td>NaN</td>\n",
       "      <td>Sidney Sheldon</td>\n",
       "      <td>Fiction</td>\n",
       "      <td>http://books.google.com/books/content?id=FKo2T...</td>\n",
       "      <td>A memorable, mesmerizing heroine Jennifer -- b...</td>\n",
       "      <td>1993.0</td>\n",
       "      <td>3.93</td>\n",
       "      <td>512.0</td>\n",
       "      <td>29532.0</td>\n",
       "    </tr>\n",
       "    <tr>\n",
       "      <th>4</th>\n",
       "      <td>9780006280897</td>\n",
       "      <td>0006280897</td>\n",
       "      <td>The Four Loves</td>\n",
       "      <td>NaN</td>\n",
       "      <td>Clive Staples Lewis</td>\n",
       "      <td>Christian life</td>\n",
       "      <td>http://books.google.com/books/content?id=XhQ5X...</td>\n",
       "      <td>Lewis' work on the nature of love divides love...</td>\n",
       "      <td>2002.0</td>\n",
       "      <td>4.15</td>\n",
       "      <td>170.0</td>\n",
       "      <td>33684.0</td>\n",
       "    </tr>\n",
       "    <tr>\n",
       "      <th>...</th>\n",
       "      <td>...</td>\n",
       "      <td>...</td>\n",
       "      <td>...</td>\n",
       "      <td>...</td>\n",
       "      <td>...</td>\n",
       "      <td>...</td>\n",
       "      <td>...</td>\n",
       "      <td>...</td>\n",
       "      <td>...</td>\n",
       "      <td>...</td>\n",
       "      <td>...</td>\n",
       "      <td>...</td>\n",
       "    </tr>\n",
       "    <tr>\n",
       "      <th>6805</th>\n",
       "      <td>9788185300535</td>\n",
       "      <td>8185300534</td>\n",
       "      <td>I Am that</td>\n",
       "      <td>Talks with Sri Nisargadatta Maharaj</td>\n",
       "      <td>Sri Nisargadatta Maharaj;Sudhakar S. Dikshit</td>\n",
       "      <td>Philosophy</td>\n",
       "      <td>http://books.google.com/books/content?id=Fv_JP...</td>\n",
       "      <td>This collection of the timeless teachings of o...</td>\n",
       "      <td>1999.0</td>\n",
       "      <td>4.51</td>\n",
       "      <td>531.0</td>\n",
       "      <td>104.0</td>\n",
       "    </tr>\n",
       "    <tr>\n",
       "      <th>6806</th>\n",
       "      <td>9788185944609</td>\n",
       "      <td>8185944601</td>\n",
       "      <td>Secrets Of The Heart</td>\n",
       "      <td>NaN</td>\n",
       "      <td>Khalil Gibran</td>\n",
       "      <td>Mysticism</td>\n",
       "      <td>http://books.google.com/books/content?id=XcrVp...</td>\n",
       "      <td>NaN</td>\n",
       "      <td>1993.0</td>\n",
       "      <td>4.08</td>\n",
       "      <td>74.0</td>\n",
       "      <td>324.0</td>\n",
       "    </tr>\n",
       "    <tr>\n",
       "      <th>6807</th>\n",
       "      <td>9788445074879</td>\n",
       "      <td>8445074873</td>\n",
       "      <td>Fahrenheit 451</td>\n",
       "      <td>NaN</td>\n",
       "      <td>Ray Bradbury</td>\n",
       "      <td>Book burning</td>\n",
       "      <td>NaN</td>\n",
       "      <td>NaN</td>\n",
       "      <td>2004.0</td>\n",
       "      <td>3.98</td>\n",
       "      <td>186.0</td>\n",
       "      <td>5733.0</td>\n",
       "    </tr>\n",
       "    <tr>\n",
       "      <th>6808</th>\n",
       "      <td>9789027712059</td>\n",
       "      <td>9027712050</td>\n",
       "      <td>The Berlin Phenomenology</td>\n",
       "      <td>NaN</td>\n",
       "      <td>Georg Wilhelm Friedrich Hegel</td>\n",
       "      <td>History</td>\n",
       "      <td>http://books.google.com/books/content?id=Vy7Sk...</td>\n",
       "      <td>Since the three volume edition ofHegel's Philo...</td>\n",
       "      <td>1981.0</td>\n",
       "      <td>0.00</td>\n",
       "      <td>210.0</td>\n",
       "      <td>0.0</td>\n",
       "    </tr>\n",
       "    <tr>\n",
       "      <th>6809</th>\n",
       "      <td>9789042003408</td>\n",
       "      <td>9042003405</td>\n",
       "      <td>'I'm Telling You Stories'</td>\n",
       "      <td>Jeanette Winterson and the Politics of Reading</td>\n",
       "      <td>Helena Grice;Tim Woods</td>\n",
       "      <td>Literary Criticism</td>\n",
       "      <td>http://books.google.com/books/content?id=2lVyR...</td>\n",
       "      <td>This is a jubilant and rewarding collection of...</td>\n",
       "      <td>1998.0</td>\n",
       "      <td>3.70</td>\n",
       "      <td>136.0</td>\n",
       "      <td>10.0</td>\n",
       "    </tr>\n",
       "  </tbody>\n",
       "</table>\n",
       "<p>6810 rows × 12 columns</p>\n",
       "</div>"
      ],
      "text/plain": [
       "             isbn13      isbn10                      title  \\\n",
       "0     9780002005883  0002005883                     Gilead   \n",
       "1     9780002261982  0002261987               Spider's Web   \n",
       "2     9780006163831  0006163831               The One Tree   \n",
       "3     9780006178736  0006178731             Rage of angels   \n",
       "4     9780006280897  0006280897             The Four Loves   \n",
       "...             ...         ...                        ...   \n",
       "6805  9788185300535  8185300534                  I Am that   \n",
       "6806  9788185944609  8185944601       Secrets Of The Heart   \n",
       "6807  9788445074879  8445074873             Fahrenheit 451   \n",
       "6808  9789027712059  9027712050   The Berlin Phenomenology   \n",
       "6809  9789042003408  9042003405  'I'm Telling You Stories'   \n",
       "\n",
       "                                            subtitle  \\\n",
       "0                                                NaN   \n",
       "1                                            A Novel   \n",
       "2                                                NaN   \n",
       "3                                                NaN   \n",
       "4                                                NaN   \n",
       "...                                              ...   \n",
       "6805             Talks with Sri Nisargadatta Maharaj   \n",
       "6806                                             NaN   \n",
       "6807                                             NaN   \n",
       "6808                                             NaN   \n",
       "6809  Jeanette Winterson and the Politics of Reading   \n",
       "\n",
       "                                           authors  \\\n",
       "0                               Marilynne Robinson   \n",
       "1                  Charles Osborne;Agatha Christie   \n",
       "2                             Stephen R. Donaldson   \n",
       "3                                   Sidney Sheldon   \n",
       "4                              Clive Staples Lewis   \n",
       "...                                            ...   \n",
       "6805  Sri Nisargadatta Maharaj;Sudhakar S. Dikshit   \n",
       "6806                                 Khalil Gibran   \n",
       "6807                                  Ray Bradbury   \n",
       "6808                 Georg Wilhelm Friedrich Hegel   \n",
       "6809                        Helena Grice;Tim Woods   \n",
       "\n",
       "                         categories  \\\n",
       "0                           Fiction   \n",
       "1     Detective and mystery stories   \n",
       "2                  American fiction   \n",
       "3                           Fiction   \n",
       "4                    Christian life   \n",
       "...                             ...   \n",
       "6805                     Philosophy   \n",
       "6806                      Mysticism   \n",
       "6807                   Book burning   \n",
       "6808                        History   \n",
       "6809             Literary Criticism   \n",
       "\n",
       "                                              thumbnail  \\\n",
       "0     http://books.google.com/books/content?id=KQZCP...   \n",
       "1     http://books.google.com/books/content?id=gA5GP...   \n",
       "2     http://books.google.com/books/content?id=OmQaw...   \n",
       "3     http://books.google.com/books/content?id=FKo2T...   \n",
       "4     http://books.google.com/books/content?id=XhQ5X...   \n",
       "...                                                 ...   \n",
       "6805  http://books.google.com/books/content?id=Fv_JP...   \n",
       "6806  http://books.google.com/books/content?id=XcrVp...   \n",
       "6807                                                NaN   \n",
       "6808  http://books.google.com/books/content?id=Vy7Sk...   \n",
       "6809  http://books.google.com/books/content?id=2lVyR...   \n",
       "\n",
       "                                            description  published_year  \\\n",
       "0     A NOVEL THAT READERS and critics have been eag...          2004.0   \n",
       "1     A new 'Christie for Christmas' -- a full-lengt...          2000.0   \n",
       "2     Volume Two of Stephen Donaldson's acclaimed se...          1982.0   \n",
       "3     A memorable, mesmerizing heroine Jennifer -- b...          1993.0   \n",
       "4     Lewis' work on the nature of love divides love...          2002.0   \n",
       "...                                                 ...             ...   \n",
       "6805  This collection of the timeless teachings of o...          1999.0   \n",
       "6806                                                NaN          1993.0   \n",
       "6807                                                NaN          2004.0   \n",
       "6808  Since the three volume edition ofHegel's Philo...          1981.0   \n",
       "6809  This is a jubilant and rewarding collection of...          1998.0   \n",
       "\n",
       "      average_rating  num_pages  ratings_count  \n",
       "0               3.85      247.0          361.0  \n",
       "1               3.83      241.0         5164.0  \n",
       "2               3.97      479.0          172.0  \n",
       "3               3.93      512.0        29532.0  \n",
       "4               4.15      170.0        33684.0  \n",
       "...              ...        ...            ...  \n",
       "6805            4.51      531.0          104.0  \n",
       "6806            4.08       74.0          324.0  \n",
       "6807            3.98      186.0         5733.0  \n",
       "6808            0.00      210.0            0.0  \n",
       "6809            3.70      136.0           10.0  \n",
       "\n",
       "[6810 rows x 12 columns]"
      ]
     },
     "execution_count": 92,
     "metadata": {},
     "output_type": "execute_result"
    }
   ],
   "source": [
    "df_2"
   ]
  },
  {
   "cell_type": "code",
   "execution_count": 93,
   "metadata": {},
   "outputs": [
    {
     "name": "stdout",
     "output_type": "stream",
     "text": [
      "<class 'pandas.core.frame.DataFrame'>\n",
      "RangeIndex: 6810 entries, 0 to 6809\n",
      "Data columns (total 12 columns):\n",
      " #   Column          Non-Null Count  Dtype  \n",
      "---  ------          --------------  -----  \n",
      " 0   isbn13          6810 non-null   int64  \n",
      " 1   isbn10          6810 non-null   object \n",
      " 2   title           6810 non-null   object \n",
      " 3   subtitle        2381 non-null   object \n",
      " 4   authors         6738 non-null   object \n",
      " 5   categories      6711 non-null   object \n",
      " 6   thumbnail       6481 non-null   object \n",
      " 7   description     6548 non-null   object \n",
      " 8   published_year  6804 non-null   float64\n",
      " 9   average_rating  6767 non-null   float64\n",
      " 10  num_pages       6767 non-null   float64\n",
      " 11  ratings_count   6767 non-null   float64\n",
      "dtypes: float64(4), int64(1), object(7)\n",
      "memory usage: 638.6+ KB\n"
     ]
    }
   ],
   "source": [
    "df_2.info()"
   ]
  },
  {
   "cell_type": "code",
   "execution_count": 94,
   "metadata": {},
   "outputs": [
    {
     "data": {
      "text/plain": [
       "isbn13               0\n",
       "isbn10               0\n",
       "title                0\n",
       "subtitle          4429\n",
       "authors             72\n",
       "categories          99\n",
       "thumbnail          329\n",
       "description        262\n",
       "published_year       6\n",
       "average_rating      43\n",
       "num_pages           43\n",
       "ratings_count       43\n",
       "dtype: int64"
      ]
     },
     "execution_count": 94,
     "metadata": {},
     "output_type": "execute_result"
    }
   ],
   "source": [
    "df_2.isna().sum()"
   ]
  },
  {
   "cell_type": "code",
   "execution_count": 96,
   "metadata": {},
   "outputs": [
    {
     "data": {
      "text/plain": [
       "'http://books.google.com/books/content?id=gA5GPgAACAAJ&printsec=frontcover&img=1&zoom=1&source=gbs_api'"
      ]
     },
     "execution_count": 96,
     "metadata": {},
     "output_type": "execute_result"
    }
   ],
   "source": [
    "df_2['thumbnail'].loc[1]"
   ]
  },
  {
   "cell_type": "code",
   "execution_count": 97,
   "metadata": {},
   "outputs": [
    {
     "data": {
      "text/plain": [
       "\"A new 'Christie for Christmas' -- a full-length novel adapted from her acclaimed play by Charles Osborne Following BLACK COFFEE and THE UNEXPECTED GUEST comes the final Agatha Christie play novelisation, bringing her superb storytelling to a new legion of fans. Clarissa, the wife of a Foreign Office diplomat, is given to daydreaming. 'Supposing I were to come down one morning and find a dead body in the library, what should I do?' she muses. Clarissa has her chance to find out when she discovers a body in the drawing-room of her house in Kent. Desperate to dispose of the body before her husband comes home with an important foreign politician, Clarissa persuades her three house guests to become accessories and accomplices. It seems that the murdered man was not unknown to certain members of the house party (but which ones?), and the search begins for the murderer and the motive, while at the same time trying to persuade a police inspector that there has been no murder at all... SPIDER'S WEB was written in 1954 specifically for Margaret Lockwood and opened first at the Theatre Royal Nottingham before moving to the Savoy Theatre in London on 14 December 1954. With THE MOUSETRAP and WI\""
      ]
     },
     "execution_count": 97,
     "metadata": {},
     "output_type": "execute_result"
    }
   ],
   "source": [
    "df_2['description'].loc[1]"
   ]
  },
  {
   "cell_type": "code",
   "execution_count": 98,
   "metadata": {},
   "outputs": [
    {
     "data": {
      "text/html": [
       "<div>\n",
       "<style scoped>\n",
       "    .dataframe tbody tr th:only-of-type {\n",
       "        vertical-align: middle;\n",
       "    }\n",
       "\n",
       "    .dataframe tbody tr th {\n",
       "        vertical-align: top;\n",
       "    }\n",
       "\n",
       "    .dataframe thead th {\n",
       "        text-align: right;\n",
       "    }\n",
       "</style>\n",
       "<table border=\"1\" class=\"dataframe\">\n",
       "  <thead>\n",
       "    <tr style=\"text-align: right;\">\n",
       "      <th></th>\n",
       "      <th>isbn13</th>\n",
       "      <th>isbn10</th>\n",
       "      <th>title</th>\n",
       "      <th>subtitle</th>\n",
       "      <th>authors</th>\n",
       "      <th>categories</th>\n",
       "      <th>thumbnail</th>\n",
       "      <th>description</th>\n",
       "      <th>published_year</th>\n",
       "      <th>average_rating</th>\n",
       "      <th>num_pages</th>\n",
       "      <th>ratings_count</th>\n",
       "    </tr>\n",
       "  </thead>\n",
       "  <tbody>\n",
       "    <tr>\n",
       "      <th>37</th>\n",
       "      <td>9780006906018</td>\n",
       "      <td>000690601X</td>\n",
       "      <td>The Princess of the Chalet School</td>\n",
       "      <td>NaN</td>\n",
       "      <td>Elinor Mary Brent-Dyer</td>\n",
       "      <td>Juvenile Fiction</td>\n",
       "      <td>http://books.google.com/books/content?id=EJcQP...</td>\n",
       "      <td>NaN</td>\n",
       "      <td>2000.0</td>\n",
       "      <td>4.10</td>\n",
       "      <td>159.0</td>\n",
       "      <td>446.0</td>\n",
       "    </tr>\n",
       "    <tr>\n",
       "      <th>60</th>\n",
       "      <td>9780007127740</td>\n",
       "      <td>000712774X</td>\n",
       "      <td>The illustrated man</td>\n",
       "      <td>NaN</td>\n",
       "      <td>Ray Bradbury</td>\n",
       "      <td>Fiction</td>\n",
       "      <td>http://books.google.com/books/content?id=kePql...</td>\n",
       "      <td>NaN</td>\n",
       "      <td>2002.0</td>\n",
       "      <td>4.14</td>\n",
       "      <td>186.0</td>\n",
       "      <td>56781.0</td>\n",
       "    </tr>\n",
       "    <tr>\n",
       "      <th>99</th>\n",
       "      <td>9780020442806</td>\n",
       "      <td>0020442807</td>\n",
       "      <td>The Chronicles of Narnia: Lion, the witch and ...</td>\n",
       "      <td>NaN</td>\n",
       "      <td>Clive Staples Lewis</td>\n",
       "      <td>Fairy tales</td>\n",
       "      <td>NaN</td>\n",
       "      <td>NaN</td>\n",
       "      <td>1978.0</td>\n",
       "      <td>4.26</td>\n",
       "      <td>1425.0</td>\n",
       "      <td>1446.0</td>\n",
       "    </tr>\n",
       "    <tr>\n",
       "      <th>102</th>\n",
       "      <td>9780023513206</td>\n",
       "      <td>0023513209</td>\n",
       "      <td>Reason in History</td>\n",
       "      <td>A General Introduction to the Philosophy of Hi...</td>\n",
       "      <td>Georg Wilhelm Friedrich Hegel</td>\n",
       "      <td>Philosophy</td>\n",
       "      <td>http://books.google.com/books/content?id=BCvcY...</td>\n",
       "      <td>NaN</td>\n",
       "      <td>1953.0</td>\n",
       "      <td>3.64</td>\n",
       "      <td>95.0</td>\n",
       "      <td>430.0</td>\n",
       "    </tr>\n",
       "    <tr>\n",
       "      <th>105</th>\n",
       "      <td>9780026995016</td>\n",
       "      <td>0026995018</td>\n",
       "      <td>Spandau</td>\n",
       "      <td>The Secret Diaries</td>\n",
       "      <td>Albert Speer</td>\n",
       "      <td>History</td>\n",
       "      <td>NaN</td>\n",
       "      <td>NaN</td>\n",
       "      <td>1976.0</td>\n",
       "      <td>4.12</td>\n",
       "      <td>463.0</td>\n",
       "      <td>6.0</td>\n",
       "    </tr>\n",
       "    <tr>\n",
       "      <th>...</th>\n",
       "      <td>...</td>\n",
       "      <td>...</td>\n",
       "      <td>...</td>\n",
       "      <td>...</td>\n",
       "      <td>...</td>\n",
       "      <td>...</td>\n",
       "      <td>...</td>\n",
       "      <td>...</td>\n",
       "      <td>...</td>\n",
       "      <td>...</td>\n",
       "      <td>...</td>\n",
       "      <td>...</td>\n",
       "    </tr>\n",
       "    <tr>\n",
       "      <th>6786</th>\n",
       "      <td>9783425040844</td>\n",
       "      <td>3425040847</td>\n",
       "      <td>In the Country of Last Things</td>\n",
       "      <td>Hauptbd.</td>\n",
       "      <td>Paul Auster</td>\n",
       "      <td>NaN</td>\n",
       "      <td>http://books.google.com/books/content?id=hdWax...</td>\n",
       "      <td>NaN</td>\n",
       "      <td>2001.0</td>\n",
       "      <td>3.91</td>\n",
       "      <td>188.0</td>\n",
       "      <td>6230.0</td>\n",
       "    </tr>\n",
       "    <tr>\n",
       "      <th>6787</th>\n",
       "      <td>9783464371640</td>\n",
       "      <td>3464371646</td>\n",
       "      <td>About a Boy</td>\n",
       "      <td>NaN</td>\n",
       "      <td>Nick Hornby</td>\n",
       "      <td>NaN</td>\n",
       "      <td>http://books.google.com/books/content?id=PuDYw...</td>\n",
       "      <td>NaN</td>\n",
       "      <td>2002.0</td>\n",
       "      <td>3.80</td>\n",
       "      <td>256.0</td>\n",
       "      <td>155.0</td>\n",
       "    </tr>\n",
       "    <tr>\n",
       "      <th>6788</th>\n",
       "      <td>9783540292128</td>\n",
       "      <td>3540292128</td>\n",
       "      <td>Enzyme-Catalyzed Synthesis of Polymers</td>\n",
       "      <td>NaN</td>\n",
       "      <td>Shiro Kobayashi;Helmut Ritter;David Kaplan</td>\n",
       "      <td>Science</td>\n",
       "      <td>http://books.google.com/books/content?id=WXOym...</td>\n",
       "      <td>NaN</td>\n",
       "      <td>2006.0</td>\n",
       "      <td>0.00</td>\n",
       "      <td>254.0</td>\n",
       "      <td>0.0</td>\n",
       "    </tr>\n",
       "    <tr>\n",
       "      <th>6806</th>\n",
       "      <td>9788185944609</td>\n",
       "      <td>8185944601</td>\n",
       "      <td>Secrets Of The Heart</td>\n",
       "      <td>NaN</td>\n",
       "      <td>Khalil Gibran</td>\n",
       "      <td>Mysticism</td>\n",
       "      <td>http://books.google.com/books/content?id=XcrVp...</td>\n",
       "      <td>NaN</td>\n",
       "      <td>1993.0</td>\n",
       "      <td>4.08</td>\n",
       "      <td>74.0</td>\n",
       "      <td>324.0</td>\n",
       "    </tr>\n",
       "    <tr>\n",
       "      <th>6807</th>\n",
       "      <td>9788445074879</td>\n",
       "      <td>8445074873</td>\n",
       "      <td>Fahrenheit 451</td>\n",
       "      <td>NaN</td>\n",
       "      <td>Ray Bradbury</td>\n",
       "      <td>Book burning</td>\n",
       "      <td>NaN</td>\n",
       "      <td>NaN</td>\n",
       "      <td>2004.0</td>\n",
       "      <td>3.98</td>\n",
       "      <td>186.0</td>\n",
       "      <td>5733.0</td>\n",
       "    </tr>\n",
       "  </tbody>\n",
       "</table>\n",
       "<p>262 rows × 12 columns</p>\n",
       "</div>"
      ],
      "text/plain": [
       "             isbn13      isbn10  \\\n",
       "37    9780006906018  000690601X   \n",
       "60    9780007127740  000712774X   \n",
       "99    9780020442806  0020442807   \n",
       "102   9780023513206  0023513209   \n",
       "105   9780026995016  0026995018   \n",
       "...             ...         ...   \n",
       "6786  9783425040844  3425040847   \n",
       "6787  9783464371640  3464371646   \n",
       "6788  9783540292128  3540292128   \n",
       "6806  9788185944609  8185944601   \n",
       "6807  9788445074879  8445074873   \n",
       "\n",
       "                                                  title  \\\n",
       "37                    The Princess of the Chalet School   \n",
       "60                                  The illustrated man   \n",
       "99    The Chronicles of Narnia: Lion, the witch and ...   \n",
       "102                                   Reason in History   \n",
       "105                                             Spandau   \n",
       "...                                                 ...   \n",
       "6786                      In the Country of Last Things   \n",
       "6787                                        About a Boy   \n",
       "6788             Enzyme-Catalyzed Synthesis of Polymers   \n",
       "6806                               Secrets Of The Heart   \n",
       "6807                                     Fahrenheit 451   \n",
       "\n",
       "                                               subtitle  \\\n",
       "37                                                  NaN   \n",
       "60                                                  NaN   \n",
       "99                                                  NaN   \n",
       "102   A General Introduction to the Philosophy of Hi...   \n",
       "105                                  The Secret Diaries   \n",
       "...                                                 ...   \n",
       "6786                                           Hauptbd.   \n",
       "6787                                                NaN   \n",
       "6788                                                NaN   \n",
       "6806                                                NaN   \n",
       "6807                                                NaN   \n",
       "\n",
       "                                         authors        categories  \\\n",
       "37                        Elinor Mary Brent-Dyer  Juvenile Fiction   \n",
       "60                                  Ray Bradbury           Fiction   \n",
       "99                           Clive Staples Lewis       Fairy tales   \n",
       "102                Georg Wilhelm Friedrich Hegel        Philosophy   \n",
       "105                                 Albert Speer           History   \n",
       "...                                          ...               ...   \n",
       "6786                                 Paul Auster               NaN   \n",
       "6787                                 Nick Hornby               NaN   \n",
       "6788  Shiro Kobayashi;Helmut Ritter;David Kaplan           Science   \n",
       "6806                               Khalil Gibran         Mysticism   \n",
       "6807                                Ray Bradbury      Book burning   \n",
       "\n",
       "                                              thumbnail description  \\\n",
       "37    http://books.google.com/books/content?id=EJcQP...         NaN   \n",
       "60    http://books.google.com/books/content?id=kePql...         NaN   \n",
       "99                                                  NaN         NaN   \n",
       "102   http://books.google.com/books/content?id=BCvcY...         NaN   \n",
       "105                                                 NaN         NaN   \n",
       "...                                                 ...         ...   \n",
       "6786  http://books.google.com/books/content?id=hdWax...         NaN   \n",
       "6787  http://books.google.com/books/content?id=PuDYw...         NaN   \n",
       "6788  http://books.google.com/books/content?id=WXOym...         NaN   \n",
       "6806  http://books.google.com/books/content?id=XcrVp...         NaN   \n",
       "6807                                                NaN         NaN   \n",
       "\n",
       "      published_year  average_rating  num_pages  ratings_count  \n",
       "37            2000.0            4.10      159.0          446.0  \n",
       "60            2002.0            4.14      186.0        56781.0  \n",
       "99            1978.0            4.26     1425.0         1446.0  \n",
       "102           1953.0            3.64       95.0          430.0  \n",
       "105           1976.0            4.12      463.0            6.0  \n",
       "...              ...             ...        ...            ...  \n",
       "6786          2001.0            3.91      188.0         6230.0  \n",
       "6787          2002.0            3.80      256.0          155.0  \n",
       "6788          2006.0            0.00      254.0            0.0  \n",
       "6806          1993.0            4.08       74.0          324.0  \n",
       "6807          2004.0            3.98      186.0         5733.0  \n",
       "\n",
       "[262 rows x 12 columns]"
      ]
     },
     "execution_count": 98,
     "metadata": {},
     "output_type": "execute_result"
    }
   ],
   "source": [
    "df_2[df_2['description'].isna()]"
   ]
  },
  {
   "cell_type": "markdown",
   "metadata": {},
   "source": [
    "### COMO NECESITAMOS LA DESCRIPTION DE CADA LIBRO PARA EL SISTEMA DE RECOMENDACIONES ELIMINAREMOS LOS LIBROS QUE NO TENGAN DESCRIPTION"
   ]
  },
  {
   "cell_type": "code",
   "execution_count": 99,
   "metadata": {},
   "outputs": [],
   "source": [
    "df_2 = df_2.dropna(subset=['description'])"
   ]
  },
  {
   "cell_type": "code",
   "execution_count": 100,
   "metadata": {},
   "outputs": [
    {
     "data": {
      "text/plain": [
       "isbn13               0\n",
       "isbn10               0\n",
       "title                0\n",
       "subtitle          4257\n",
       "authors             65\n",
       "categories          37\n",
       "thumbnail          222\n",
       "description          0\n",
       "published_year       5\n",
       "average_rating      37\n",
       "num_pages           37\n",
       "ratings_count       37\n",
       "dtype: int64"
      ]
     },
     "execution_count": 100,
     "metadata": {},
     "output_type": "execute_result"
    }
   ],
   "source": [
    "df_2.isna().sum()"
   ]
  },
  {
   "cell_type": "markdown",
   "metadata": {},
   "source": [
    "### Como usaremos streamlit para que sea mas visible para el usuario necesitamos que todos los libros tengan un link de referencia por eso eliminaremos los que no lo tengan"
   ]
  },
  {
   "cell_type": "code",
   "execution_count": 102,
   "metadata": {},
   "outputs": [],
   "source": [
    "df_2 = df_2.dropna(subset=['thumbnail'])"
   ]
  },
  {
   "cell_type": "code",
   "execution_count": 103,
   "metadata": {},
   "outputs": [
    {
     "data": {
      "text/plain": [
       "isbn13               0\n",
       "isbn10               0\n",
       "title                0\n",
       "subtitle          4109\n",
       "authors             57\n",
       "categories          22\n",
       "thumbnail            0\n",
       "description          0\n",
       "published_year       0\n",
       "average_rating      33\n",
       "num_pages           33\n",
       "ratings_count       33\n",
       "dtype: int64"
      ]
     },
     "execution_count": 103,
     "metadata": {},
     "output_type": "execute_result"
    }
   ],
   "source": [
    "df_2.isna().sum()"
   ]
  },
  {
   "cell_type": "markdown",
   "metadata": {},
   "source": [
    "### SEGUIMOS CON LA COLUMNA PUBLISHER_YEAR LA TRANSFORMAREMOS A INT PARA QUE SEA MAS ESTETICO EN FLOAT NO PARECE QUE HABLARAMOS DEL AÑO DE PUBLICACION"
   ]
  },
  {
   "cell_type": "code",
   "execution_count": 104,
   "metadata": {},
   "outputs": [],
   "source": [
    "df_2['published_year'] = df_2['published_year'].astype(int)"
   ]
  },
  {
   "cell_type": "code",
   "execution_count": 105,
   "metadata": {},
   "outputs": [
    {
     "data": {
      "text/plain": [
       "0       2004\n",
       "1       2000\n",
       "2       1982\n",
       "3       1993\n",
       "4       2002\n",
       "        ... \n",
       "6803    2002\n",
       "6804    2003\n",
       "6805    1999\n",
       "6808    1981\n",
       "6809    1998\n",
       "Name: published_year, Length: 6326, dtype: int64"
      ]
     },
     "execution_count": 105,
     "metadata": {},
     "output_type": "execute_result"
    }
   ],
   "source": [
    "df_2['published_year']"
   ]
  },
  {
   "cell_type": "markdown",
   "metadata": {},
   "source": [
    "### PARA ESTE PROYECTO SE NECESITA LOS AUTORES POR ELLO LOS LIBROS QUE NO TENGAN AUTORES NO SERAN TOMADOS EN CUENTA"
   ]
  },
  {
   "cell_type": "code",
   "execution_count": 106,
   "metadata": {},
   "outputs": [],
   "source": [
    "df_2 = df_2.dropna(subset=['authors'])"
   ]
  },
  {
   "cell_type": "code",
   "execution_count": 107,
   "metadata": {},
   "outputs": [
    {
     "data": {
      "text/plain": [
       "isbn13               0\n",
       "isbn10               0\n",
       "title                0\n",
       "subtitle          4072\n",
       "authors              0\n",
       "categories          22\n",
       "thumbnail            0\n",
       "description          0\n",
       "published_year       0\n",
       "average_rating      33\n",
       "num_pages           33\n",
       "ratings_count       33\n",
       "dtype: int64"
      ]
     },
     "execution_count": 107,
     "metadata": {},
     "output_type": "execute_result"
    }
   ],
   "source": [
    "df_2.isna().sum()"
   ]
  },
  {
   "cell_type": "markdown",
   "metadata": {},
   "source": [
    "### PARA El SISTEMA DE RECOMENDACIONES NO ES OBLIGATORIO FILTRAR POR CATEGORIAS POR ESO SOLO TRANSFORMAREMOS LOS NAN EN \"UNKNOW\""
   ]
  },
  {
   "cell_type": "code",
   "execution_count": 108,
   "metadata": {},
   "outputs": [],
   "source": [
    "df_2[\"categories\"].fillna('Unknown', inplace=True)"
   ]
  },
  {
   "cell_type": "code",
   "execution_count": 109,
   "metadata": {},
   "outputs": [
    {
     "data": {
      "text/plain": [
       "isbn13               0\n",
       "isbn10               0\n",
       "title                0\n",
       "subtitle          4072\n",
       "authors              0\n",
       "categories           0\n",
       "thumbnail            0\n",
       "description          0\n",
       "published_year       0\n",
       "average_rating      33\n",
       "num_pages           33\n",
       "ratings_count       33\n",
       "dtype: int64"
      ]
     },
     "execution_count": 109,
     "metadata": {},
     "output_type": "execute_result"
    }
   ],
   "source": [
    "df_2.isna().sum()"
   ]
  },
  {
   "cell_type": "code",
   "execution_count": 110,
   "metadata": {},
   "outputs": [
    {
     "name": "stdout",
     "output_type": "stream",
     "text": [
      "<class 'pandas.core.frame.DataFrame'>\n",
      "Int64Index: 6269 entries, 0 to 6809\n",
      "Data columns (total 12 columns):\n",
      " #   Column          Non-Null Count  Dtype  \n",
      "---  ------          --------------  -----  \n",
      " 0   isbn13          6269 non-null   int64  \n",
      " 1   isbn10          6269 non-null   object \n",
      " 2   title           6269 non-null   object \n",
      " 3   subtitle        2197 non-null   object \n",
      " 4   authors         6269 non-null   object \n",
      " 5   categories      6269 non-null   object \n",
      " 6   thumbnail       6269 non-null   object \n",
      " 7   description     6269 non-null   object \n",
      " 8   published_year  6269 non-null   int64  \n",
      " 9   average_rating  6236 non-null   float64\n",
      " 10  num_pages       6236 non-null   float64\n",
      " 11  ratings_count   6236 non-null   float64\n",
      "dtypes: float64(3), int64(2), object(7)\n",
      "memory usage: 636.7+ KB\n"
     ]
    }
   ],
   "source": [
    "df_2.info()"
   ]
  },
  {
   "cell_type": "markdown",
   "metadata": {},
   "source": [
    "### PARA ESTE SISTEMA DEJAREMOS LOS NUMEROS DE PAGINAS FALTANTES COMO NA ASI NO PERDEREMOS DATOS Y TRASNFORMAMOS LOS DATOS A TIPO INT64"
   ]
  },
  {
   "cell_type": "code",
   "execution_count": 112,
   "metadata": {},
   "outputs": [],
   "source": [
    "# PRIMERO REEMPLAZAMOS LOS NAN POR CERO\n",
    "df_2['num_pages'].fillna(0, inplace=True)"
   ]
  },
  {
   "cell_type": "code",
   "execution_count": 113,
   "metadata": {},
   "outputs": [],
   "source": [
    "# LUEGO PODREMOS CONVERTIR A INT\n",
    "df_2['num_pages'] = df_2['num_pages'].astype(int)"
   ]
  },
  {
   "cell_type": "code",
   "execution_count": 116,
   "metadata": {},
   "outputs": [
    {
     "name": "stdout",
     "output_type": "stream",
     "text": [
      "<class 'pandas.core.frame.DataFrame'>\n",
      "RangeIndex: 11123 entries, 0 to 11122\n",
      "Data columns (total 12 columns):\n",
      " #   Column              Non-Null Count  Dtype  \n",
      "---  ------              --------------  -----  \n",
      " 0   bookID              11123 non-null  int64  \n",
      " 1   title               11123 non-null  object \n",
      " 2   authors             11123 non-null  object \n",
      " 3   average_rating      11123 non-null  float64\n",
      " 4   isbn                11123 non-null  object \n",
      " 5   isbn13              11123 non-null  int64  \n",
      " 6   language_code       11123 non-null  object \n",
      " 7     num_pages         11123 non-null  int64  \n",
      " 8   ratings_count       11123 non-null  int64  \n",
      " 9   text_reviews_count  11123 non-null  int64  \n",
      " 10  publication_date    11123 non-null  object \n",
      " 11  publisher           11123 non-null  object \n",
      "dtypes: float64(1), int64(5), object(6)\n",
      "memory usage: 1.0+ MB\n"
     ]
    }
   ],
   "source": [
    "df.info()"
   ]
  },
  {
   "cell_type": "markdown",
   "metadata": {},
   "source": [
    "### POR ULTIMO ELIMINAREMOS LOS CAMPOS QUE NO USAREMOS (ISBN13, ISBN10, SUTITLE, RATINGS_COUNT, AVERAGE_RATING)"
   ]
  },
  {
   "cell_type": "code",
   "execution_count": 117,
   "metadata": {},
   "outputs": [],
   "source": [
    "df_2[['title','authors','categories','thumbnail','published_year','num_pages','description']]\n",
    "data_limpia = df_2[['title','authors','categories','thumbnail','published_year','num_pages','description']]"
   ]
  },
  {
   "cell_type": "code",
   "execution_count": 118,
   "metadata": {},
   "outputs": [
    {
     "name": "stdout",
     "output_type": "stream",
     "text": [
      "<class 'pandas.core.frame.DataFrame'>\n",
      "Int64Index: 6269 entries, 0 to 6809\n",
      "Data columns (total 7 columns):\n",
      " #   Column          Non-Null Count  Dtype \n",
      "---  ------          --------------  ----- \n",
      " 0   title           6269 non-null   object\n",
      " 1   authors         6269 non-null   object\n",
      " 2   categories      6269 non-null   object\n",
      " 3   thumbnail       6269 non-null   object\n",
      " 4   published_year  6269 non-null   int64 \n",
      " 5   num_pages       6269 non-null   int64 \n",
      " 6   description     6269 non-null   object\n",
      "dtypes: int64(2), object(5)\n",
      "memory usage: 391.8+ KB\n"
     ]
    }
   ],
   "source": [
    "data_limpia.info()"
   ]
  },
  {
   "cell_type": "code",
   "execution_count": 119,
   "metadata": {},
   "outputs": [
    {
     "data": {
      "text/plain": [
       "title             0\n",
       "authors           0\n",
       "categories        0\n",
       "thumbnail         0\n",
       "published_year    0\n",
       "num_pages         0\n",
       "description       0\n",
       "dtype: int64"
      ]
     },
     "execution_count": 119,
     "metadata": {},
     "output_type": "execute_result"
    }
   ],
   "source": [
    "data_limpia.isna().sum()"
   ]
  },
  {
   "cell_type": "markdown",
   "metadata": {},
   "source": [
    "### UNA VEZ LA DATA ESTA LIMPIA Y PROCESADA LA EXPORTAMOS PARA LUEGO USARLA EN EL MODELO DE MACHINE LEARNING"
   ]
  },
  {
   "cell_type": "code",
   "execution_count": 121,
   "metadata": {},
   "outputs": [],
   "source": [
    "data_limpia.to_csv('data_limpia.csv',index=False)"
   ]
  }
 ],
 "metadata": {
  "kernelspec": {
   "display_name": "Python 3",
   "language": "python",
   "name": "python3"
  },
  "language_info": {
   "codemirror_mode": {
    "name": "ipython",
    "version": 3
   },
   "file_extension": ".py",
   "mimetype": "text/x-python",
   "name": "python",
   "nbconvert_exporter": "python",
   "pygments_lexer": "ipython3",
   "version": "3.10.12"
  }
 },
 "nbformat": 4,
 "nbformat_minor": 2
}
